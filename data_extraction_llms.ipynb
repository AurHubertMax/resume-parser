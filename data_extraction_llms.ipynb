{
 "cells": [
  {
   "cell_type": "code",
   "execution_count": 53,
   "metadata": {},
   "outputs": [
    {
     "name": "stderr",
     "output_type": "stream",
     "text": [
      "\n",
      "[notice] A new release of pip is available: 24.0 -> 25.0\n",
      "[notice] To update, run: python.exe -m pip install --upgrade pip\n",
      "\n",
      "[notice] A new release of pip is available: 24.0 -> 25.0\n",
      "[notice] To update, run: python.exe -m pip install --upgrade pip\n",
      "\n",
      "[notice] A new release of pip is available: 24.0 -> 25.0\n",
      "[notice] To update, run: python.exe -m pip install --upgrade pip\n"
     ]
    }
   ],
   "source": [
    "!pip3 install --upgrade --quiet langchain langchain-community langchain-openai chromadb\n",
    "!pip3 install --upgrade --quiet pypdf pandas streamlit python-dotenv\n",
    "!pip3 install --quiet langchain_experimental langchain_openai"
   ]
  },
  {
   "cell_type": "code",
   "execution_count": 2,
   "metadata": {},
   "outputs": [],
   "source": [
    "# Import Langchain modules\n",
    "from langchain.document_loaders import PyPDFLoader\n",
    "from langchain.text_splitter import RecursiveCharacterTextSplitter\n",
    "from langchain_openai import OpenAIEmbeddings, ChatOpenAI\n",
    "from langchain.vectorstores import Chroma\n",
    "from langchain_core.runnables import RunnablePassthrough\n",
    "from langchain_core.prompts import ChatPromptTemplate\n",
    "from langchain_core.pydantic_v1 import BaseModel, Field\n",
    "\n",
    "# Other modules and packages\n",
    "import os\n",
    "import tempfile\n",
    "import streamlit as st\n",
    "import pandas as pd\n",
    "from dotenv import load_dotenv"
   ]
  },
  {
   "cell_type": "code",
   "execution_count": 3,
   "metadata": {},
   "outputs": [
    {
     "data": {
      "text/plain": [
       "True"
      ]
     },
     "execution_count": 3,
     "metadata": {},
     "output_type": "execute_result"
    }
   ],
   "source": [
    "load_dotenv()"
   ]
  },
  {
   "cell_type": "code",
   "execution_count": 4,
   "metadata": {},
   "outputs": [],
   "source": [
    "OPENAI_API_KEY = os.environ.get(\"OPENAI_API_KEY\")"
   ]
  },
  {
   "cell_type": "markdown",
   "metadata": {},
   "source": [
    "## Define our LLM"
   ]
  },
  {
   "cell_type": "code",
   "execution_count": null,
   "metadata": {},
   "outputs": [
    {
     "data": {
      "text/plain": [
       "AIMessage(content='Why did the cat sit on the computer?\\n\\nBecause it wanted to keep an eye on the mouse!', additional_kwargs={'refusal': None}, response_metadata={'token_usage': {'completion_tokens': 21, 'prompt_tokens': 13, 'total_tokens': 34, 'completion_tokens_details': {'accepted_prediction_tokens': 0, 'audio_tokens': 0, 'reasoning_tokens': 0, 'rejected_prediction_tokens': 0}, 'prompt_tokens_details': {'audio_tokens': 0, 'cached_tokens': 0}}, 'model_name': 'gpt-4o-mini-2024-07-18', 'system_fingerprint': 'fp_72ed7ab54c', 'finish_reason': 'stop', 'logprobs': None}, id='run-3d30b0f3-d53e-4f59-8046-776c5bc959df-0', usage_metadata={'input_tokens': 13, 'output_tokens': 21, 'total_tokens': 34, 'input_token_details': {'audio': 0, 'cache_read': 0}, 'output_token_details': {'audio': 0, 'reasoning': 0}})"
      ]
     },
     "execution_count": 7,
     "metadata": {},
     "output_type": "execute_result"
    }
   ],
   "source": [
    "llm = ChatOpenAI(model=\"gpt-4o-mini\", api_key=OPENAI_API_KEY)\n",
    "# llm.invoke(\"Tell me a joke about cats\")"
   ]
  },
  {
   "cell_type": "markdown",
   "metadata": {},
   "source": [
    "## Process PDF document"
   ]
  },
  {
   "cell_type": "code",
   "execution_count": 9,
   "metadata": {},
   "outputs": [
    {
     "data": {
      "text/plain": [
       "[Document(metadata={'source': 'data/Resume-Samples-pages-1.pdf', 'page': 0, 'page_label': '1'}, page_content=' \\n \\nDevin C. Debit  \\ndevindebit@noemail7.com  973-761-9355 \\n  \\nCAREER OBJECTIVE \\nTo obtain an entry-level position with a regional public accounting firm with a special interest in corporate \\ntax accounting and auditing  \\n \\nEDUCATION \\nSeton Hall University, South Orange, NJ  \\nMaster of Science in Accounting        May 20xx  \\nEligible to sit for the CPA exam with 150 credits \\nGPA:  3.83/4.00 \\n \\nUniversity of South Florida, Tampa, FL   May 20xx \\nBachelor of Science in Finance \\nGPA: 3.64/4.00  \\n \\nRELATED COURSEWORK  \\nManagerial Accounting and Decision Making    Advanced Corporate Income Tax  \\nAdvanced Financial Accounting      Microeconomics Theory and Applications \\nCorporate Finance I, II and III      Enterprise Accounting \\n \\nEXPERIENCE \\nAnderson, Smith & Jones, LLC, Roseland, NJ    \\nAccounting Intern         May 20xx - September 20xx \\n\\x87 Assisted with the annual audit of a health care consortium and identified a major posting error leading \\nto the recovery of over $74,000 in federal tax credits  \\n\\x87 Created workbook for newly hired interns that was adopted by other four offices in Northeast  \\n\\x87 ReceiYed a commendaWion fUom Whe fiUm¶V managing paUWneU  \\n\\x87 Awarded Intern of the Month in the second month of employment  \\n\\x87 Assisted with various bookkeeping tasks including payroll and accounts payable for a mid-sized \\nmanufacturing firm \\n \\nStephen Roberts, Certified Public Accountant, Raleigh, NC    \\nAccoXnWanW¶s AssisWanW        Summer 20xx \\n\\x87 PUoceVVed clienWV¶ Wa[ UeWXUnV and filed Xp Wo WZo do]en annXal UepoUWV online each monWh \\n\\x87 Entered payroll data for 10 small businesses using Professional Suite Accounting Write -Up CS \\n \\nUniversity of South Florida Housing and Residence Life, Miami, FL  \\nResident Assistant         August 20xx - May 20xx \\n\\x87 Managed a university residence hall floor of 55 ethnically diverse undergraduate students \\n\\x87 Organized and facilitated monthly floor meetings; coordinated weekly programs \\n\\x87 Worked in Residence Life office, managed building front desk, participated in on call duty  \\n \\nHONORS AND AWARDS \\nToastmasters International of Nashville Gold Medal - Oratory Competition, March 20xx  \\nPhi Kappa Phi Honor Society, Member, January 20xx - Present  \\nNashville Natatorium, First Place - Freestyle, Annual Swimming Contest, December 20xx \\n \\nACTIVITIES \\nBeta Alpha Psi, Member       September 20xx - present \\n\\x87 Attend weekly site visits to network with professionals at public accounting firms \\n \\nOutward Bound, The Appalachian Trail, Asheville, NC     May 20xx \\nx Participated in week-long wilderness team building experience with a group of 10 students \\n ')]"
      ]
     },
     "execution_count": 9,
     "metadata": {},
     "output_type": "execute_result"
    }
   ],
   "source": [
    "loader = PyPDFLoader('data/Resume-Samples-pages-1.pdf') # Load the resume\n",
    "pages = loader.load() # Load the pages of the resume\n",
    "pages"
   ]
  },
  {
   "cell_type": "markdown",
   "metadata": {},
   "source": [
    "## split document"
   ]
  },
  {
   "cell_type": "code",
   "execution_count": 17,
   "metadata": {},
   "outputs": [],
   "source": [
    "text_splitter = RecursiveCharacterTextSplitter(chunk_size=1500, # Split the text into chunks\n",
    "                                               chunk_overlap=200, # Chunk overlap is to ensure that the chunks are not cut off in the middle of a word\n",
    "                                               length_function=len, # Length function is the function that calculates the length of the text\n",
    "                                               separators=['\\n', '\\r\\n', '\\r', ' ']) # Separators are the characters that are used to separate the text into chunks\n",
    "chunks = text_splitter.split_documents(pages) # Split the text into chunks"
   ]
  },
  {
   "cell_type": "markdown",
   "metadata": {},
   "source": [
    "## Create embeddings"
   ]
  },
  {
   "cell_type": "code",
   "execution_count": 18,
   "metadata": {},
   "outputs": [],
   "source": [
    "def get_embedding_fn(): # Get the embedding function\n",
    "    embeddings = OpenAIEmbeddings( \n",
    "        model=\"text-embedding-ada-002\",\n",
    "        api_key=OPENAI_API_KEY\n",
    "    )\n",
    "    return embeddings\n",
    "\n",
    "embedding_fn = get_embedding_fn()\n",
    "test_vector = embedding_fn.embed_query(\"cat\") # Test the embedding function"
   ]
  },
  {
   "cell_type": "code",
   "execution_count": 19,
   "metadata": {},
   "outputs": [
    {
     "data": {
      "text/plain": [
       "{'score': 0.13704235445734714}"
      ]
     },
     "execution_count": 19,
     "metadata": {},
     "output_type": "execute_result"
    }
   ],
   "source": [
    "from langchain.evaluation import load_evaluator\n",
    "\n",
    "evaluator = load_evaluator(evaluator=\"embedding_distance\",\n",
    "                           embeddings=embedding_fn)\n",
    "evaluator.evaluate_strings(prediction=\"cat\", reference=\"dog\") # Evaluate the embedding function"
   ]
  },
  {
   "cell_type": "markdown",
   "metadata": {},
   "source": [
    "## Create vector database"
   ]
  },
  {
   "cell_type": "code",
   "execution_count": 25,
   "metadata": {},
   "outputs": [],
   "source": [
    "import uuid\n",
    "\n",
    "# create a new chroma database from the documents\n",
    "def create_vector_store(chunks, embedding_fn, vector_store_path):\n",
    "    # prevent duplicate vector store directories\n",
    "\n",
    "    #  create a list of unique ids for each document based on the content\n",
    "    ids = [str(uuid.uuid5(uuid.NAMESPACE_DNS, doc.page_content)) for doc in chunks]\n",
    "\n",
    "    # ensure that only unique docs with unique ids are kept\n",
    "    unique_ids = set()\n",
    "    unique_chunks = []\n",
    "    for chunk, id in zip(chunks, ids):\n",
    "        if id not in unique_ids:\n",
    "            unique_ids.add(id)\n",
    "            unique_chunks.append(chunk)\n",
    "    \n",
    "    # create a new vector store\n",
    "    vector_store = Chroma.from_documents(documents=unique_chunks,\n",
    "                                         ids=list(unique_ids),\n",
    "                                        embedding=embedding_fn,\n",
    "                                        persist_directory=vector_store_path)\n",
    "    vector_store.persist()\n",
    "    return vector_store\n",
    "                                    "
   ]
  },
  {
   "cell_type": "code",
   "execution_count": 26,
   "metadata": {},
   "outputs": [
    {
     "name": "stderr",
     "output_type": "stream",
     "text": [
      "C:\\Users\\Owner\\AppData\\Local\\Temp\\ipykernel_20320\\6781656.py:23: LangChainDeprecationWarning: Since Chroma 0.4.x the manual persistence method is no longer supported as docs are automatically persisted.\n",
      "  vector_store.persist()\n"
     ]
    }
   ],
   "source": [
    "# create a new vector store\n",
    "vector_score = create_vector_store(chunks=chunks,\n",
    "                                  embedding_fn=embedding_fn,\n",
    "                                  vector_store_path=\"vector_store_chroma\")"
   ]
  },
  {
   "cell_type": "markdown",
   "metadata": {},
   "source": [
    "## Query for relevant data"
   ]
  },
  {
   "cell_type": "code",
   "execution_count": 28,
   "metadata": {},
   "outputs": [],
   "source": [
    "# load vector store\n",
    "vector_store = Chroma(persist_directory=\"vector_store_chroma\",\n",
    "                      embedding_function=embedding_fn)"
   ]
  },
  {
   "cell_type": "code",
   "execution_count": 30,
   "metadata": {},
   "outputs": [
    {
     "name": "stderr",
     "output_type": "stream",
     "text": [
      "Number of requested results 4 is greater than number of elements in index 2, updating n_results = 2\n"
     ]
    },
    {
     "data": {
      "text/plain": [
       "[Document(metadata={'page': 0, 'page_label': '1', 'source': 'data/Resume-Samples-pages-1.pdf'}, page_content='manufacturing firm \\n \\nStephen Roberts, Certified Public Accountant, Raleigh, NC    \\nAccoXnWanW¶s AssisWanW        Summer 20xx \\n\\x87 PUoceVVed clienWV¶ Wa[ UeWXUnV and filed Xp Wo WZo do]en annXal UepoUWV online each monWh \\n\\x87 Entered payroll data for 10 small businesses using Professional Suite Accounting Write -Up CS \\n \\nUniversity of South Florida Housing and Residence Life, Miami, FL  \\nResident Assistant         August 20xx - May 20xx \\n\\x87 Managed a university residence hall floor of 55 ethnically diverse undergraduate students \\n\\x87 Organized and facilitated monthly floor meetings; coordinated weekly programs \\n\\x87 Worked in Residence Life office, managed building front desk, participated in on call duty  \\n \\nHONORS AND AWARDS \\nToastmasters International of Nashville Gold Medal - Oratory Competition, March 20xx  \\nPhi Kappa Phi Honor Society, Member, January 20xx - Present  \\nNashville Natatorium, First Place - Freestyle, Annual Swimming Contest, December 20xx \\n \\nACTIVITIES \\nBeta Alpha Psi, Member       September 20xx - present \\n\\x87 Attend weekly site visits to network with professionals at public accounting firms \\n \\nOutward Bound, The Appalachian Trail, Asheville, NC     May 20xx \\nx Participated in week-long wilderness team building experience with a group of 10 students'),\n",
       " Document(metadata={'page': 0, 'page_label': '1', 'source': 'data/Resume-Samples-pages-1.pdf'}, page_content='Devin C. Debit  \\ndevindebit@noemail7.com  973-761-9355 \\n  \\nCAREER OBJECTIVE \\nTo obtain an entry-level position with a regional public accounting firm with a special interest in corporate \\ntax accounting and auditing  \\n \\nEDUCATION \\nSeton Hall University, South Orange, NJ  \\nMaster of Science in Accounting        May 20xx  \\nEligible to sit for the CPA exam with 150 credits \\nGPA:  3.83/4.00 \\n \\nUniversity of South Florida, Tampa, FL   May 20xx \\nBachelor of Science in Finance \\nGPA: 3.64/4.00  \\n \\nRELATED COURSEWORK  \\nManagerial Accounting and Decision Making    Advanced Corporate Income Tax  \\nAdvanced Financial Accounting      Microeconomics Theory and Applications \\nCorporate Finance I, II and III      Enterprise Accounting \\n \\nEXPERIENCE \\nAnderson, Smith & Jones, LLC, Roseland, NJ    \\nAccounting Intern         May 20xx - September 20xx \\n\\x87 Assisted with the annual audit of a health care consortium and identified a major posting error leading \\nto the recovery of over $74,000 in federal tax credits  \\n\\x87 Created workbook for newly hired interns that was adopted by other four offices in Northeast  \\n\\x87 ReceiYed a commendaWion fUom Whe fiUm¶V managing paUWneU  \\n\\x87 Awarded Intern of the Month in the second month of employment  \\n\\x87 Assisted with various bookkeeping tasks including payroll and accounts payable for a mid-sized \\nmanufacturing firm \\n \\nStephen Roberts, Certified Public Accountant, Raleigh, NC    \\nAccoXnWanW¶s AssisWanW        Summer 20xx')]"
      ]
     },
     "execution_count": 30,
     "metadata": {},
     "output_type": "execute_result"
    }
   ],
   "source": [
    "# create retriever and get relevant chunks\n",
    "retriever = vector_store.as_retriever(search_type=\"similarity\")\n",
    "relevant_chunks = retriever.invoke(\"What is the name of the person in this resume?\")\n",
    "relevant_chunks"
   ]
  },
  {
   "cell_type": "code",
   "execution_count": 31,
   "metadata": {},
   "outputs": [],
   "source": [
    "# prompt template\n",
    "\n",
    "PROMPT_TEMPLATE = \"\"\" \n",
    "    You are a recruiter for a company and you are looking for a candidate to fill a position. \n",
    "    You have a resume in front of you and you want to know more about the candidate. \n",
    "    You want to know the name of the candidate. The resume is attached below. \n",
    "    Please provide the name of the candidate.\n",
    "\n",
    "    If you don't know the answer, say that you don't know. DON'T GUESS OR MAKE UP ANYTHING.\n",
    "\n",
    "    {context}\n",
    "\n",
    "    ---\n",
    "\n",
    "    Answer the question based on the above context: {question}\n",
    "\"\"\""
   ]
  },
  {
   "cell_type": "code",
   "execution_count": 33,
   "metadata": {},
   "outputs": [
    {
     "name": "stdout",
     "output_type": "stream",
     "text": [
      "Human:  \n",
      "    You are a recruiter for a company and you are looking for a candidate to fill a position. \n",
      "    You have a resume in front of you and you want to know more about the candidate. \n",
      "    You want to know the name of the candidate. The resume is attached below. \n",
      "    Please provide the name of the candidate.\n",
      "\n",
      "    If you don't know the answer, say that you don't know. DON'T GUESS OR MAKE UP ANYTHING.\n",
      "\n",
      "    manufacturing firm \n",
      " \n",
      "Stephen Roberts, Certified Public Accountant, Raleigh, NC    \n",
      "AccoXnWanW¶s AssisWanW        Summer 20xx \n",
      " PUoceVVed clienWV¶ Wa[ UeWXUnV and filed Xp Wo WZo do]en annXal UepoUWV online each monWh \n",
      " Entered payroll data for 10 small businesses using Professional Suite Accounting Write -Up CS \n",
      " \n",
      "University of South Florida Housing and Residence Life, Miami, FL  \n",
      "Resident Assistant         August 20xx - May 20xx \n",
      " Managed a university residence hall floor of 55 ethnically diverse undergraduate students \n",
      " Organized and facilitated monthly floor meetings; coordinated weekly programs \n",
      " Worked in Residence Life office, managed building front desk, participated in on call duty  \n",
      " \n",
      "HONORS AND AWARDS \n",
      "Toastmasters International of Nashville Gold Medal - Oratory Competition, March 20xx  \n",
      "Phi Kappa Phi Honor Society, Member, January 20xx - Present  \n",
      "Nashville Natatorium, First Place - Freestyle, Annual Swimming Contest, December 20xx \n",
      " \n",
      "ACTIVITIES \n",
      "Beta Alpha Psi, Member       September 20xx - present \n",
      " Attend weekly site visits to network with professionals at public accounting firms \n",
      " \n",
      "Outward Bound, The Appalachian Trail, Asheville, NC     May 20xx \n",
      "x Participated in week-long wilderness team building experience with a group of 10 students\n",
      "\n",
      "---\n",
      "\n",
      "Devin C. Debit  \n",
      "devindebit@noemail7.com  973-761-9355 \n",
      "  \n",
      "CAREER OBJECTIVE \n",
      "To obtain an entry-level position with a regional public accounting firm with a special interest in corporate \n",
      "tax accounting and auditing  \n",
      " \n",
      "EDUCATION \n",
      "Seton Hall University, South Orange, NJ  \n",
      "Master of Science in Accounting        May 20xx  \n",
      "Eligible to sit for the CPA exam with 150 credits \n",
      "GPA:  3.83/4.00 \n",
      " \n",
      "University of South Florida, Tampa, FL   May 20xx \n",
      "Bachelor of Science in Finance \n",
      "GPA: 3.64/4.00  \n",
      " \n",
      "RELATED COURSEWORK  \n",
      "Managerial Accounting and Decision Making    Advanced Corporate Income Tax  \n",
      "Advanced Financial Accounting      Microeconomics Theory and Applications \n",
      "Corporate Finance I, II and III      Enterprise Accounting \n",
      " \n",
      "EXPERIENCE \n",
      "Anderson, Smith & Jones, LLC, Roseland, NJ    \n",
      "Accounting Intern         May 20xx - September 20xx \n",
      " Assisted with the annual audit of a health care consortium and identified a major posting error leading \n",
      "to the recovery of over $74,000 in federal tax credits  \n",
      " Created workbook for newly hired interns that was adopted by other four offices in Northeast  \n",
      " ReceiYed a commendaWion fUom Whe fiUm¶V managing paUWneU  \n",
      " Awarded Intern of the Month in the second month of employment  \n",
      " Assisted with various bookkeeping tasks including payroll and accounts payable for a mid-sized \n",
      "manufacturing firm \n",
      " \n",
      "Stephen Roberts, Certified Public Accountant, Raleigh, NC    \n",
      "AccoXnWanW¶s AssisWanW        Summer 20xx\n",
      "\n",
      "    ---\n",
      "\n",
      "    Answer the question based on the above context: What is the name of the person in this resume?\n",
      "\n"
     ]
    }
   ],
   "source": [
    "# Concatenate context text\n",
    "context_text = \"\\n\\n---\\n\\n\".join([doc.page_content for doc in relevant_chunks])\n",
    "\n",
    "# Create prompt\n",
    "prompt_template = ChatPromptTemplate.from_template(PROMPT_TEMPLATE)\n",
    "prompt = prompt_template.format(context=context_text,\n",
    "                                question=\"What is the name of the person in this resume?\")\n",
    "print(prompt)"
   ]
  },
  {
   "cell_type": "markdown",
   "metadata": {},
   "source": [
    "## Generate responses"
   ]
  },
  {
   "cell_type": "code",
   "execution_count": 35,
   "metadata": {},
   "outputs": [
    {
     "data": {
      "text/plain": [
       "AIMessage(content='The name of the candidate in this resume is Devin C. Debit.', additional_kwargs={'refusal': None}, response_metadata={'token_usage': {'completion_tokens': 15, 'prompt_tokens': 770, 'total_tokens': 785, 'completion_tokens_details': {'accepted_prediction_tokens': 0, 'audio_tokens': 0, 'reasoning_tokens': 0, 'rejected_prediction_tokens': 0}, 'prompt_tokens_details': {'audio_tokens': 0, 'cached_tokens': 0}}, 'model_name': 'gpt-4o-mini-2024-07-18', 'system_fingerprint': 'fp_72ed7ab54c', 'finish_reason': 'stop', 'logprobs': None}, id='run-891c60cd-d110-4dde-b245-d4a1eb042025-0', usage_metadata={'input_tokens': 770, 'output_tokens': 15, 'total_tokens': 785, 'input_token_details': {'audio': 0, 'cache_read': 0}, 'output_token_details': {'audio': 0, 'reasoning': 0}})"
      ]
     },
     "execution_count": 35,
     "metadata": {},
     "output_type": "execute_result"
    }
   ],
   "source": [
    "llm.invoke(prompt)"
   ]
  },
  {
   "cell_type": "markdown",
   "metadata": {},
   "source": [
    "## using langchain expression language to generate responses"
   ]
  },
  {
   "cell_type": "code",
   "execution_count": 36,
   "metadata": {},
   "outputs": [],
   "source": [
    "def format_docs(docs):\n",
    "    return \"\\n\\n\".join(doc.page_content for doc in docs)\n",
    "\n",
    "rag_chain = (\n",
    "    {\"context\": retriever | format_docs, \"question\": RunnablePassthrough()} \n",
    "    | prompt_template\n",
    "    | llm\n",
    ")"
   ]
  },
  {
   "cell_type": "markdown",
   "metadata": {},
   "source": [
    "## Generate structured responses"
   ]
  },
  {
   "cell_type": "code",
   "execution_count": 50,
   "metadata": {},
   "outputs": [],
   "source": [
    "class AnswerWithSources(BaseModel):\n",
    "    \"\"\"An answer to the question, with sources and reasoning.\"\"\"\n",
    "    answer: str = Field(description=\"The answer to the question.\")\n",
    "    sources: str = Field(description=\"Full direct text chunk from the context used to answer the question.\")\n",
    "    reasoning: str = Field(description=\"Explain the reasoning of the answer based on the sources.\")\n",
    "\n",
    "\n",
    "class ExtractedInfo(BaseModel):\n",
    "    \"\"\"Extracted information about the resume:\"\"\"\n",
    "    name: AnswerWithSources  \n",
    "    email: AnswerWithSources  \n",
    "    phone: AnswerWithSources  \n",
    "    education: AnswerWithSources  \n",
    "    experience:  AnswerWithSources  \n",
    "    skills: AnswerWithSources  \n",
    "    summary:  AnswerWithSources  "
   ]
  },
  {
   "cell_type": "code",
   "execution_count": 51,
   "metadata": {},
   "outputs": [
    {
     "name": "stderr",
     "output_type": "stream",
     "text": [
      "c:\\Users\\Owner\\OneDrive\\Desktop\\Resume Parser\\resume-parser\\env\\Lib\\site-packages\\langchain_openai\\chat_models\\base.py:1363: UserWarning: Received a Pydantic BaseModel V1 schema. This is not supported by method=\"json_schema\". Please use method=\"function_calling\" or specify schema via JSON Schema or Pydantic V2 BaseModel. Overriding to method=\"function_calling\".\n",
      "  warnings.warn(\n",
      "Number of requested results 4 is greater than number of elements in index 2, updating n_results = 2\n"
     ]
    },
    {
     "data": {
      "text/plain": [
       "ExtractedInfo(name=AnswerWithSources(answer='Devin C. Debit', sources='Devin C. Debit', reasoning='The name of the candidate is clearly stated at the top of the resume.'), email=AnswerWithSources(answer='devindebit@noemail7.com', sources='devindebit@noemail7.com', reasoning=\"The email is provided directly beneath the candidate's name on the resume.\"), phone=AnswerWithSources(answer='973-761-9355', sources='973-761-9355', reasoning='The phone number is listed alongside the email address in the resume.'), education=AnswerWithSources(answer='Seton Hall University, Master of Science in Accounting; University of South Florida, Bachelor of Science in Finance', sources='Seton Hall University, South Orange, NJ Master of Science in Accounting; University of South Florida, Tampa, FL Bachelor of Science in Finance', reasoning='The education section of the resume lists degrees from these universities.'), experience=AnswerWithSources(answer='The candidate has experience as an Accounting Intern at Anderson, Smith & Jones, LLC and as an Accounting Assistant at Stephen Roberts, Certified Public Accountant, as well as a Resident Assistant at University of South Florida Housing and Residence Life.', sources='Anderson, Smith & Jones, LLC, Roseland, NJ; Stephen Roberts, Certified Public Accountant, Raleigh, NC; University of South Florida Housing and Residence Life, Miami, FL', reasoning='Experience is detailed in the relevant section of the resume.'), skills=AnswerWithSources(answer='The skills are not explicitly listed, but the candidate demonstrates strong accounting and auditing skills through their experience and coursework.', sources='Recognition for audit contributions and various coursework related to accounting and finance', reasoning=\"Skills can be inferred from the candidate's accomplishments and education.\"), summary=AnswerWithSources(answer='Devin C. Debit is an aspiring accountant seeking an entry-level position in public accounting, with an interest in corporate tax accounting and auditing.', sources='CAREER OBJECTIVE mentions aspiring for an entry-level position with a focus on corporate tax accounting and auditing.', reasoning=\"The candidate's career objective summarizes their goals and interests in the field.\"))"
      ]
     },
     "execution_count": 51,
     "metadata": {},
     "output_type": "execute_result"
    }
   ],
   "source": [
    "rag_chain = (\n",
    "    {\"context\": retriever | format_docs, \"question\": RunnablePassthrough()} \n",
    "    | prompt_template\n",
    "    | llm.with_structured_output(ExtractedInfo, strict=True)\n",
    ")\n",
    "\n",
    "rag_chain.invoke(\"Give me the name, email, phone number, and education of the person in this resume.\")"
   ]
  },
  {
   "cell_type": "markdown",
   "metadata": {},
   "source": [
    "## Transform response into a dataframe"
   ]
  },
  {
   "cell_type": "code",
   "execution_count": 52,
   "metadata": {},
   "outputs": [
    {
     "name": "stderr",
     "output_type": "stream",
     "text": [
      "Number of requested results 4 is greater than number of elements in index 2, updating n_results = 2\n"
     ]
    },
    {
     "data": {
      "text/html": [
       "<div>\n",
       "<style scoped>\n",
       "    .dataframe tbody tr th:only-of-type {\n",
       "        vertical-align: middle;\n",
       "    }\n",
       "\n",
       "    .dataframe tbody tr th {\n",
       "        vertical-align: top;\n",
       "    }\n",
       "\n",
       "    .dataframe thead th {\n",
       "        text-align: right;\n",
       "    }\n",
       "</style>\n",
       "<table border=\"1\" class=\"dataframe\">\n",
       "  <thead>\n",
       "    <tr style=\"text-align: right;\">\n",
       "      <th></th>\n",
       "      <th>name</th>\n",
       "      <th>email</th>\n",
       "      <th>phone</th>\n",
       "      <th>education</th>\n",
       "      <th>experience</th>\n",
       "      <th>skills</th>\n",
       "      <th>summary</th>\n",
       "    </tr>\n",
       "  </thead>\n",
       "  <tbody>\n",
       "    <tr>\n",
       "      <th>Answer</th>\n",
       "      <td>Devin C. Debit</td>\n",
       "      <td>devindebit@noemail7.com</td>\n",
       "      <td>973-761-9355</td>\n",
       "      <td>Seton Hall University, Master of Science in Ac...</td>\n",
       "      <td>Accounting Intern at Anderson, Smith &amp; Jones, ...</td>\n",
       "      <td>Tax accounting, auditing, bookkeeping, and tea...</td>\n",
       "      <td>Entry-level candidate focused on corporate tax...</td>\n",
       "    </tr>\n",
       "    <tr>\n",
       "      <th>Source</th>\n",
       "      <td>Devin C. Debit</td>\n",
       "      <td>devindebit@noemail7.com</td>\n",
       "      <td>973-761-9355</td>\n",
       "      <td>Seton Hall University, South Orange, NJ Master...</td>\n",
       "      <td>Anderson, Smith &amp; Jones, LLC, Roseland, NJ; St...</td>\n",
       "      <td>Related coursework indicates accounting skills...</td>\n",
       "      <td>Career objective states interest in corporate ...</td>\n",
       "    </tr>\n",
       "    <tr>\n",
       "      <th>Reasoning</th>\n",
       "      <td>The name is explicitly mentioned at the top of...</td>\n",
       "      <td>The email address is provided directly in the ...</td>\n",
       "      <td>The phone number is listed in the resume.</td>\n",
       "      <td>The education section of the resume outlines t...</td>\n",
       "      <td>The experience section lists the candidate's r...</td>\n",
       "      <td>Inferred from experience and stated career obj...</td>\n",
       "      <td>The career objective provides a clear summary ...</td>\n",
       "    </tr>\n",
       "  </tbody>\n",
       "</table>\n",
       "</div>"
      ],
      "text/plain": [
       "                                                        name  \\\n",
       "Answer                                        Devin C. Debit   \n",
       "Source                                        Devin C. Debit   \n",
       "Reasoning  The name is explicitly mentioned at the top of...   \n",
       "\n",
       "                                                       email  \\\n",
       "Answer                               devindebit@noemail7.com   \n",
       "Source                               devindebit@noemail7.com   \n",
       "Reasoning  The email address is provided directly in the ...   \n",
       "\n",
       "                                               phone  \\\n",
       "Answer                                  973-761-9355   \n",
       "Source                                  973-761-9355   \n",
       "Reasoning  The phone number is listed in the resume.   \n",
       "\n",
       "                                                   education  \\\n",
       "Answer     Seton Hall University, Master of Science in Ac...   \n",
       "Source     Seton Hall University, South Orange, NJ Master...   \n",
       "Reasoning  The education section of the resume outlines t...   \n",
       "\n",
       "                                                  experience  \\\n",
       "Answer     Accounting Intern at Anderson, Smith & Jones, ...   \n",
       "Source     Anderson, Smith & Jones, LLC, Roseland, NJ; St...   \n",
       "Reasoning  The experience section lists the candidate's r...   \n",
       "\n",
       "                                                      skills  \\\n",
       "Answer     Tax accounting, auditing, bookkeeping, and tea...   \n",
       "Source     Related coursework indicates accounting skills...   \n",
       "Reasoning  Inferred from experience and stated career obj...   \n",
       "\n",
       "                                                     summary  \n",
       "Answer     Entry-level candidate focused on corporate tax...  \n",
       "Source     Career objective states interest in corporate ...  \n",
       "Reasoning  The career objective provides a clear summary ...  "
      ]
     },
     "execution_count": 52,
     "metadata": {},
     "output_type": "execute_result"
    }
   ],
   "source": [
    "structured_res = rag_chain.invoke(\"Give me the name, email, phone number, and education of the person in this resume.\")\n",
    "df = pd.DataFrame([structured_res.dict()])\n",
    "\n",
    "# transform into a table with three rows: answer, source, and reasoning\n",
    "answer_row = []\n",
    "source_row = []\n",
    "reasoning_row = []\n",
    "\n",
    "for col in df.columns:\n",
    "    answer_row.append(df[col][0]['answer'])\n",
    "    source_row.append(df[col][0]['sources'])\n",
    "    reasoning_row.append(df[col][0]['reasoning'])\n",
    "\n",
    "# create new dataframe with three rows: answer, source, and reasoning\n",
    "structured_res_df = pd.DataFrame([answer_row, source_row, reasoning_row], columns=df.columns, index=['Answer', 'Source', 'Reasoning'])\n",
    "\n",
    "structured_res_df"
   ]
  }
 ],
 "metadata": {
  "kernelspec": {
   "display_name": "env",
   "language": "python",
   "name": "python3"
  },
  "language_info": {
   "codemirror_mode": {
    "name": "ipython",
    "version": 3
   },
   "file_extension": ".py",
   "mimetype": "text/x-python",
   "name": "python",
   "nbconvert_exporter": "python",
   "pygments_lexer": "ipython3",
   "version": "3.11.9"
  }
 },
 "nbformat": 4,
 "nbformat_minor": 2
}
